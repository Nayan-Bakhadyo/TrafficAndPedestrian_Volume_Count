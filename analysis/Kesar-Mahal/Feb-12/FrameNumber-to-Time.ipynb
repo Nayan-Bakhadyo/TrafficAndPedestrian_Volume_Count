{
 "cells": [
  {
   "cell_type": "code",
   "execution_count": 41,
   "id": "8a7f34faaf772b41",
   "metadata": {
    "collapsed": true,
    "ExecuteTime": {
     "end_time": "2024-02-08T11:44:54.313815Z",
     "start_time": "2024-02-08T11:44:54.282558Z"
    }
   },
   "outputs": [
    {
     "name": "stdout",
     "output_type": "stream",
     "text": [
      "     FrameNumber  ObjectID ObjectType  Direction     Seconds      Time\n",
      "0              9         0     person  NorthEast    0.600000  18:13:27\n",
      "1             23         0     person  SouthEast    1.533333  18:13:28\n",
      "2             66         2        car  SouthWest    4.400000  18:13:31\n",
      "3             90         0     person  NorthEast    6.000000  18:13:33\n",
      "4            113         0     person      North    7.533333  18:13:34\n",
      "..           ...       ...        ...        ...         ...       ...\n",
      "319         5274         0     person  SouthEast  351.600000  18:19:18\n",
      "320         5286         0     person  SouthEast  352.400000  18:19:19\n",
      "321         5336        24   backpack  NorthEast  355.733333  18:19:22\n",
      "322         5337         0     person  SouthEast  355.800000  18:19:22\n",
      "323         5339         0     person      North  355.933333  18:19:22\n",
      "\n",
      "[324 rows x 6 columns]\n"
     ]
    }
   ],
   "source": [
    "import pandas as pd\n",
    "# Assuming df is your DataFrame with 'FrameNumber' column\n",
    "df = pd.read_excel('excel_logs/170423A+171923A+173423A+174923A+180423A_03.xlsx')\n",
    "# Define the starting time\n",
    "start_time = pd.to_datetime('18:13:27', format='%H:%M:%S')\n",
    "\n",
    "# Convert FrameNumber to seconds\n",
    "df['Seconds'] = df['FrameNumber'] / 15\n",
    "\n",
    "# Convert seconds to timedelta and add to the starting time\n",
    "df['Time'] = (start_time + pd.to_timedelta(df['Seconds'], unit='s')).dt.strftime('%H:%M:%S')\n",
    "\n",
    "print(df)"
   ]
  },
  {
   "cell_type": "code",
   "execution_count": 42,
   "outputs": [
    {
     "name": "stdout",
     "output_type": "stream",
     "text": [
      "File saved successfully!!\n"
     ]
    }
   ],
   "source": [
    "\n",
    "# Save the DataFrame to an Excel file with the 'Time' column\n",
    "output_file_path = 'time_added_logs/170423A+171923A+173423A+174923A+180423A_03.xlsx'\n",
    "df.to_excel(output_file_path, index=False)\n",
    "print('File saved successfully!!')"
   ],
   "metadata": {
    "collapsed": false,
    "ExecuteTime": {
     "end_time": "2024-02-08T11:44:54.675970Z",
     "start_time": "2024-02-08T11:44:54.641342Z"
    }
   },
   "id": "4c3bd6da4db69419"
  },
  {
   "cell_type": "code",
   "execution_count": 31,
   "outputs": [
    {
     "name": "stdout",
     "output_type": "stream",
     "text": [
      "HourlyGroup\n",
      "(2023-12-18 08:00:00, 2023-12-18 08:15:00]   NaN\n",
      "(2023-12-18 08:15:00, 2023-12-18 08:30:00]   NaN\n",
      "(2023-12-18 08:30:00, 2023-12-18 08:45:00]   NaN\n",
      "(2023-12-18 08:45:00, 2023-12-18 09:00:00]   NaN\n",
      "Name: EQ_FACTOR, dtype: float64\n"
     ]
    },
    {
     "name": "stderr",
     "output_type": "stream",
     "text": [
      "/var/folders/d2/vfvjx2nn47d77zlp4l9ql4_40000gn/T/ipykernel_36776/1017364830.py:13: FutureWarning: The default of observed=False is deprecated and will be changed to True in a future version of pandas. Pass observed=False to retain current behavior or observed=True to adopt the future default and silence this warning.\n",
      "  phf_results = df.groupby('HourlyGroup')['EQ_FACTOR'].sum() / (4 * df.groupby('HourlyGroup')['EQ_FACTOR'].max())\n"
     ]
    }
   ],
   "source": [],
   "metadata": {
    "collapsed": false,
    "ExecuteTime": {
     "end_time": "2023-12-18T11:03:13.730516Z",
     "start_time": "2023-12-18T11:03:12.565455Z"
    }
   },
   "id": "initial_id"
  },
  {
   "cell_type": "code",
   "execution_count": 18,
   "outputs": [],
   "source": [],
   "metadata": {
    "collapsed": false,
    "ExecuteTime": {
     "end_time": "2023-12-18T10:53:45.806378Z",
     "start_time": "2023-12-18T10:53:45.801389Z"
    }
   },
   "id": "a3619b73838ce1af"
  },
  {
   "cell_type": "code",
   "execution_count": null,
   "outputs": [],
   "source": [],
   "metadata": {
    "collapsed": false
   },
   "id": "67bf8c1ecda59765"
  }
 ],
 "metadata": {
  "kernelspec": {
   "display_name": "Python 3",
   "language": "python",
   "name": "python3"
  },
  "language_info": {
   "codemirror_mode": {
    "name": "ipython",
    "version": 2
   },
   "file_extension": ".py",
   "mimetype": "text/x-python",
   "name": "python",
   "nbconvert_exporter": "python",
   "pygments_lexer": "ipython2",
   "version": "2.7.6"
  }
 },
 "nbformat": 4,
 "nbformat_minor": 5
}
