{
 "cells": [
  {
   "cell_type": "code",
   "execution_count": 1,
   "id": "initial_id",
   "metadata": {
    "collapsed": true,
    "ExecuteTime": {
     "end_time": "2024-02-08T11:48:14.397715Z",
     "start_time": "2024-02-08T11:48:14.116119Z"
    }
   },
   "outputs": [],
   "source": [
    "import pandas as pd"
   ]
  },
  {
   "cell_type": "code",
   "execution_count": 4,
   "outputs": [
    {
     "name": "stdout",
     "output_type": "stream",
     "text": [
      "time_added_logs/2.xlsx\n",
      "time_added_logs/3.xlsx\n",
      "time_added_logs/4.xlsx\n",
      "time_added_logs/5.xlsx\n",
      "time_added_logs/6.xlsx\n",
      "time_added_logs/7.xlsx\n",
      "time_added_logs/8.xlsx\n",
      "time_added_logs/9.xlsx\n",
      "time_added_logs/10.xlsx\n",
      "time_added_logs/11.xlsx\n"
     ]
    }
   ],
   "source": [
    "# Concatenate the directory path and file name\n",
    "file_path = f'{\"time_added_logs\"}/{\"1.xlsx\"}'\n",
    "merge_data = pd.read_excel(file_path)\n",
    "for i in range(2,12):\n",
    "    file_path = f'{\"time_added_logs\"}/{str(i)+\".xlsx\"}'\n",
    "    file = pd.read_excel(file_path)\n",
    "    merge_data = pd.concat([merge_data,file])\n",
    "    print(file_path)\n",
    "    "
   ],
   "metadata": {
    "collapsed": false,
    "ExecuteTime": {
     "end_time": "2024-02-08T11:52:27.641925Z",
     "start_time": "2024-02-08T11:52:26.908232Z"
    }
   },
   "id": "57a000f9a48a01cc"
  },
  {
   "cell_type": "code",
   "execution_count": 6,
   "outputs": [
    {
     "name": "stdout",
     "output_type": "stream",
     "text": [
      "11879\n"
     ]
    }
   ],
   "source": [
    "print(len(merge_data))"
   ],
   "metadata": {
    "collapsed": false,
    "ExecuteTime": {
     "end_time": "2024-02-08T11:52:44.355379Z",
     "start_time": "2024-02-08T11:52:44.341059Z"
    }
   },
   "id": "eadd8e611196435"
  },
  {
   "cell_type": "code",
   "execution_count": 10,
   "outputs": [],
   "source": [
    "merge_data.to_excel('time_added_logs/merged_log.xlsx', index=False)"
   ],
   "metadata": {
    "collapsed": false,
    "ExecuteTime": {
     "end_time": "2024-02-08T11:56:10.218829Z",
     "start_time": "2024-02-08T11:56:09.380813Z"
    }
   },
   "id": "2919cf09259a8273"
  },
  {
   "cell_type": "code",
   "execution_count": null,
   "outputs": [],
   "source": [],
   "metadata": {
    "collapsed": false
   },
   "id": "8c4a7221772aefcb"
  }
 ],
 "metadata": {
  "kernelspec": {
   "display_name": "Python 3",
   "language": "python",
   "name": "python3"
  },
  "language_info": {
   "codemirror_mode": {
    "name": "ipython",
    "version": 2
   },
   "file_extension": ".py",
   "mimetype": "text/x-python",
   "name": "python",
   "nbconvert_exporter": "python",
   "pygments_lexer": "ipython2",
   "version": "2.7.6"
  }
 },
 "nbformat": 4,
 "nbformat_minor": 5
}
