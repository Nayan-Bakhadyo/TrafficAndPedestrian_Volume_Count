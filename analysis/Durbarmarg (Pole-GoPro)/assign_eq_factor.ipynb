{
 "cells": [
  {
   "cell_type": "code",
   "execution_count": 2,
   "id": "initial_id",
   "metadata": {
    "collapsed": true,
    "ExecuteTime": {
     "end_time": "2024-02-14T11:32:02.082202Z",
     "start_time": "2024-02-14T11:32:00.361004Z"
    }
   },
   "outputs": [
    {
     "name": "stdout",
     "output_type": "stream",
     "text": [
      "       ObjectID  ObjectType  EQ_FACTOR      Time\n",
      "0             0      person        0.0  09:23:50\n",
      "1             0      person        0.0  09:23:50\n",
      "2             3  motorcycle        0.5  09:23:50\n",
      "3             0      person        0.0  09:23:52\n",
      "4             0      person        0.0  09:23:52\n",
      "...         ...         ...        ...       ...\n",
      "13709         0      person        0.0  11:34:43\n",
      "13710         0      person        0.0  11:35:00\n",
      "13711         0      person        0.0  11:35:04\n",
      "13712         3  motorcycle        0.5  11:35:18\n",
      "13713         0      person        0.0  11:35:24\n",
      "\n",
      "[13714 rows x 4 columns]\n",
      "Data saved to: time_added_logs/merged_eq_assigned.xlsx\n"
     ]
    }
   ],
   "source": [
    "import pandas as pd\n",
    "\n",
    "# Read the Excel file\n",
    "file_path = 'time_added_logs/merged_log.xlsx'\n",
    "df = pd.read_excel(file_path)\n",
    "\n",
    "# Define equivalency factors\n",
    "equivalency_factors = {'motorcycle': 0.5, 'bicycle': 0.5, 'car': 1, 'truck': 3, 'bus': 3}\n",
    "\n",
    "# Create a new column 'EQ_FACTOR' based on ObjectType\n",
    "df['EQ_FACTOR'] = df['ObjectType'].map(equivalency_factors).fillna(0)\n",
    "\n",
    "# Save the updated DataFrame to a new Excel file\n",
    "output_file_path = 'time_added_logs/merged_eq_assigned.xlsx'\n",
    "df.to_excel(output_file_path, index=False)\n",
    "\n",
    "# Display the DataFrame with the new 'EQ_FACTOR' column\n",
    "print(df[['ObjectID','ObjectType', 'EQ_FACTOR','Time']])\n",
    "print(f'Data saved to: {output_file_path}')\n"
   ]
  },
  {
   "cell_type": "code",
   "execution_count": null,
   "outputs": [],
   "source": [],
   "metadata": {
    "collapsed": false
   },
   "id": "6cbf937eeb7e7934"
  }
 ],
 "metadata": {
  "kernelspec": {
   "display_name": "Python 3",
   "language": "python",
   "name": "python3"
  },
  "language_info": {
   "codemirror_mode": {
    "name": "ipython",
    "version": 2
   },
   "file_extension": ".py",
   "mimetype": "text/x-python",
   "name": "python",
   "nbconvert_exporter": "python",
   "pygments_lexer": "ipython2",
   "version": "2.7.6"
  }
 },
 "nbformat": 4,
 "nbformat_minor": 5
}
