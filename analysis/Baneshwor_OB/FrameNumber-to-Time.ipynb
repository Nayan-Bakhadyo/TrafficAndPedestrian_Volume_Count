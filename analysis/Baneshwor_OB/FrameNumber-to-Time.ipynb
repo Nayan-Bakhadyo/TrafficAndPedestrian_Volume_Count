{
 "cells": [
  {
   "cell_type": "code",
   "execution_count": 3,
   "id": "8a7f34faaf772b41",
   "metadata": {
    "collapsed": true,
    "ExecuteTime": {
     "end_time": "2024-01-17T09:49:03.018270Z",
     "start_time": "2024-01-17T09:49:02.403550Z"
    }
   },
   "outputs": [
    {
     "name": "stdout",
     "output_type": "stream",
     "text": [
      "       FrameNumber  ObjectID  ObjectType  Direction       Seconds      Time\n",
      "0                5         0      person  SouthWest      0.333333  08:00:00\n",
      "1                7         0      person  SouthWest      0.466667  08:00:00\n",
      "2               15         3  motorcycle  SouthWest      1.000000  08:00:01\n",
      "3               18         0      person  SouthWest      1.200000  08:00:01\n",
      "4               22         0      person  SouthWest      1.466667  08:00:01\n",
      "...            ...       ...         ...        ...           ...       ...\n",
      "17305       180836         2         car  NorthEast  12055.733333  11:20:55\n",
      "17306       180838         2         car  SouthWest  12055.866667  11:20:55\n",
      "17307       180951         7       truck  SouthWest  12063.400000  11:21:03\n",
      "17308       181027         2         car  NorthEast  12068.466667  11:21:08\n",
      "17309       181107         2         car  SouthWest  12073.800000  11:21:13\n",
      "\n",
      "[17310 rows x 6 columns]\n"
     ]
    }
   ],
   "source": [
    "import pandas as pd\n",
    "# Assuming df is your DataFrame with 'FrameNumber' column\n",
    "df = pd.read_excel('SinghaDurbar_Final.xlsx')\n",
    "# Define the starting time\n",
    "start_time = pd.to_datetime('08:00:00', format='%H:%M:%S')\n",
    "\n",
    "# Convert FrameNumber to seconds\n",
    "df['Seconds'] = df['FrameNumber'] / 15\n",
    "\n",
    "# Convert seconds to timedelta and add to the starting time\n",
    "df['Time'] = (start_time + pd.to_timedelta(df['Seconds'], unit='s')).dt.strftime('%H:%M:%S')\n",
    "\n",
    "print(df)"
   ]
  },
  {
   "cell_type": "code",
   "execution_count": 4,
   "outputs": [],
   "source": [
    "\n",
    "# Save the DataFrame to an Excel file with the 'Time' column\n",
    "output_file_path = 'SinghaDurbar_Final_Time.xlsx'\n",
    "df.to_excel(output_file_path, index=False)"
   ],
   "metadata": {
    "collapsed": false,
    "ExecuteTime": {
     "end_time": "2024-01-17T09:49:10.212682Z",
     "start_time": "2024-01-17T09:49:08.971030Z"
    }
   },
   "id": "4c3bd6da4db69419"
  },
  {
   "cell_type": "code",
   "execution_count": 31,
   "outputs": [
    {
     "name": "stdout",
     "output_type": "stream",
     "text": [
      "HourlyGroup\n",
      "(2023-12-18 08:00:00, 2023-12-18 08:15:00]   NaN\n",
      "(2023-12-18 08:15:00, 2023-12-18 08:30:00]   NaN\n",
      "(2023-12-18 08:30:00, 2023-12-18 08:45:00]   NaN\n",
      "(2023-12-18 08:45:00, 2023-12-18 09:00:00]   NaN\n",
      "Name: EQ_FACTOR, dtype: float64\n"
     ]
    },
    {
     "name": "stderr",
     "output_type": "stream",
     "text": [
      "/var/folders/d2/vfvjx2nn47d77zlp4l9ql4_40000gn/T/ipykernel_36776/1017364830.py:13: FutureWarning: The default of observed=False is deprecated and will be changed to True in a future version of pandas. Pass observed=False to retain current behavior or observed=True to adopt the future default and silence this warning.\n",
      "  phf_results = df.groupby('HourlyGroup')['EQ_FACTOR'].sum() / (4 * df.groupby('HourlyGroup')['EQ_FACTOR'].max())\n"
     ]
    }
   ],
   "source": [
    "df = pd.read_excel('SinghaDurbar_Final_Time_eqFactor.xlsx')\n",
    "# Ensure 'Time' is in datetime format\n",
    "import pandas as pd\n",
    "# Ensure 'Time' is in datetime format\n",
    "df['Time'] = pd.to_datetime(df['Time'], format='%H:%M:%S')\n",
    "# Group by 15-minute intervals and calculate the sum of EQ_FACTOR for each group\n",
    "time_group = df.groupby(df['Time'].dt.floor('15min'))['EQ_FACTOR'].sum()\n",
    "\n",
    "# Create a new column 'HourlyGroup' to represent the hourly intervals\n",
    "df['HourlyGroup'] = pd.cut(df['Time'], bins=pd.date_range(start='08:00:00', end='09:00:00', freq='15min'))\n",
    "\n",
    "# Group by 'HourlyGroup' and calculate the PHF for each group\n",
    "phf_results = df.groupby('HourlyGroup')['EQ_FACTOR'].sum() / (4 * df.groupby('HourlyGroup')['EQ_FACTOR'].max())\n",
    "\n",
    "print(phf_results)"
   ],
   "metadata": {
    "collapsed": false,
    "ExecuteTime": {
     "end_time": "2023-12-18T11:03:13.730516Z",
     "start_time": "2023-12-18T11:03:12.565455Z"
    }
   },
   "id": "initial_id"
  },
  {
   "cell_type": "code",
   "execution_count": 18,
   "outputs": [],
   "source": [],
   "metadata": {
    "collapsed": false,
    "ExecuteTime": {
     "end_time": "2023-12-18T10:53:45.806378Z",
     "start_time": "2023-12-18T10:53:45.801389Z"
    }
   },
   "id": "a3619b73838ce1af"
  },
  {
   "cell_type": "code",
   "execution_count": null,
   "outputs": [],
   "source": [],
   "metadata": {
    "collapsed": false
   },
   "id": "67bf8c1ecda59765"
  }
 ],
 "metadata": {
  "kernelspec": {
   "display_name": "Python 3",
   "language": "python",
   "name": "python3"
  },
  "language_info": {
   "codemirror_mode": {
    "name": "ipython",
    "version": 2
   },
   "file_extension": ".py",
   "mimetype": "text/x-python",
   "name": "python",
   "nbconvert_exporter": "python",
   "pygments_lexer": "ipython2",
   "version": "2.7.6"
  }
 },
 "nbformat": 4,
 "nbformat_minor": 5
}
