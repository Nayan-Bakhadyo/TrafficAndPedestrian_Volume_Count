{
 "cells": [
  {
   "cell_type": "code",
   "execution_count": 34,
   "id": "initial_id",
   "metadata": {
    "collapsed": true,
    "ExecuteTime": {
     "end_time": "2024-01-17T05:24:11.868525Z",
     "start_time": "2024-01-17T05:24:11.859648Z"
    }
   },
   "outputs": [],
   "source": [
    "import pandas as pd"
   ]
  },
  {
   "cell_type": "code",
   "execution_count": 35,
   "outputs": [],
   "source": [
    "# Concatenate the directory path and file name\n",
    "file_path = f'{\"singhadurbar_re\"}/{\"Singhadurbar_01.xlsx\"}'"
   ],
   "metadata": {
    "collapsed": false,
    "ExecuteTime": {
     "end_time": "2024-01-17T05:24:12.263284Z",
     "start_time": "2024-01-17T05:24:12.258914Z"
    }
   },
   "id": "57a000f9a48a01cc"
  },
  {
   "cell_type": "code",
   "execution_count": 36,
   "outputs": [],
   "source": [
    "merged_data = pd.read_excel(file_path)"
   ],
   "metadata": {
    "collapsed": false,
    "ExecuteTime": {
     "end_time": "2024-01-17T05:24:13.154134Z",
     "start_time": "2024-01-17T05:24:13.101720Z"
    }
   },
   "id": "eadd8e611196435"
  },
  {
   "cell_type": "code",
   "execution_count": 37,
   "outputs": [],
   "source": [
    "file_path2 = f'{\"singhadurbar_re\"}/{\"Singhadurbar_02.xlsx\"}'\n",
    "singhadurbar_02 = pd.read_excel(file_path2)"
   ],
   "metadata": {
    "collapsed": false,
    "ExecuteTime": {
     "end_time": "2024-01-17T05:24:13.743679Z",
     "start_time": "2024-01-17T05:24:13.693692Z"
    }
   },
   "id": "58cae2055209f8d5"
  },
  {
   "cell_type": "code",
   "execution_count": 38,
   "outputs": [
    {
     "name": "stdout",
     "output_type": "stream",
     "text": [
      "      FrameNumber  ObjectID  ObjectType  Direction\n",
      "0               5         0      person  SouthWest\n",
      "1               7         0      person  SouthWest\n",
      "2              15         3  motorcycle  SouthWest\n",
      "3              18         0      person  SouthWest\n",
      "4              22         0      person  SouthWest\n",
      "...           ...       ...         ...        ...\n",
      "1084        16754         0      person  SouthWest\n",
      "1085        16773         3  motorcycle  SouthWest\n",
      "1086        16776         2         car  SouthWest\n",
      "1087        16776         3  motorcycle  NorthEast\n",
      "1088        16777         2         car  SouthWest\n",
      "\n",
      "[1089 rows x 4 columns]\n"
     ]
    }
   ],
   "source": [
    "print(merged_data)"
   ],
   "metadata": {
    "collapsed": false,
    "ExecuteTime": {
     "end_time": "2024-01-17T05:24:14.126823Z",
     "start_time": "2024-01-17T05:24:14.122253Z"
    }
   },
   "id": "accf161e71e188ab"
  },
  {
   "cell_type": "code",
   "execution_count": 39,
   "outputs": [],
   "source": [
    "singhadurbar_02['FrameNumber'] += 16800"
   ],
   "metadata": {
    "collapsed": false,
    "ExecuteTime": {
     "end_time": "2024-01-17T05:24:15.224455Z",
     "start_time": "2024-01-17T05:24:15.218020Z"
    }
   },
   "id": "4ff232e337396874"
  },
  {
   "cell_type": "code",
   "execution_count": 40,
   "outputs": [
    {
     "name": "stdout",
     "output_type": "stream",
     "text": [
      "      FrameNumber  ObjectID  ObjectType  Direction\n",
      "0           16805         2         car  SouthWest\n",
      "1           16814         7       truck  NorthEast\n",
      "2           16907         2         car  NorthEast\n",
      "3           16910         3  motorcycle  SouthWest\n",
      "4           16911         0      person  SouthWest\n",
      "...           ...       ...         ...        ...\n",
      "1082        33559         0      person  SouthWest\n",
      "1083        33569         0      person  SouthWest\n",
      "1084        33573         0      person  SouthWest\n",
      "1085        33574         0      person  SouthWest\n",
      "1086        33584         0      person  SouthWest\n",
      "\n",
      "[1087 rows x 4 columns]\n"
     ]
    }
   ],
   "source": [
    "print(singhadurbar_02)"
   ],
   "metadata": {
    "collapsed": false,
    "ExecuteTime": {
     "end_time": "2024-01-17T05:24:15.769426Z",
     "start_time": "2024-01-17T05:24:15.752122Z"
    }
   },
   "id": "8565555bf2a1c6d7"
  },
  {
   "cell_type": "code",
   "execution_count": 41,
   "outputs": [],
   "source": [
    "#merged gyaneshwor_1 and gyaneshwor_2\n",
    "merged_data2 = pd.concat([merged_data,singhadurbar_02], ignore_index = True)"
   ],
   "metadata": {
    "collapsed": false,
    "ExecuteTime": {
     "end_time": "2024-01-17T05:24:16.393249Z",
     "start_time": "2024-01-17T05:24:16.387021Z"
    }
   },
   "id": "99afbc7b2baa9ee5"
  },
  {
   "cell_type": "code",
   "execution_count": 42,
   "outputs": [
    {
     "name": "stdout",
     "output_type": "stream",
     "text": [
      "      FrameNumber  ObjectID  ObjectType  Direction\n",
      "0               5         0      person  SouthWest\n",
      "1               7         0      person  SouthWest\n",
      "2              15         3  motorcycle  SouthWest\n",
      "3              18         0      person  SouthWest\n",
      "4              22         0      person  SouthWest\n",
      "...           ...       ...         ...        ...\n",
      "2171        33559         0      person  SouthWest\n",
      "2172        33569         0      person  SouthWest\n",
      "2173        33573         0      person  SouthWest\n",
      "2174        33574         0      person  SouthWest\n",
      "2175        33584         0      person  SouthWest\n",
      "\n",
      "[2176 rows x 4 columns]\n"
     ]
    }
   ],
   "source": [
    "print(merged_data2)"
   ],
   "metadata": {
    "collapsed": false,
    "ExecuteTime": {
     "end_time": "2024-01-17T05:24:18.006900Z",
     "start_time": "2024-01-17T05:24:17.999867Z"
    }
   },
   "id": "57015f03a487e309"
  },
  {
   "cell_type": "code",
   "execution_count": 43,
   "outputs": [
    {
     "name": "stdout",
     "output_type": "stream",
     "text": [
      "      FrameNumber  ObjectID  ObjectType  Direction\n",
      "0               5         3  motorcycle  NorthEast\n",
      "1               5         3  motorcycle  NorthEast\n",
      "2               6         3  motorcycle  SouthWest\n",
      "3               9         0      person  SouthWest\n",
      "4              14         3  motorcycle  NorthEast\n",
      "...           ...       ...         ...        ...\n",
      "1961        22372         3  motorcycle  SouthWest\n",
      "1962        22375         3  motorcycle  SouthWest\n",
      "1963        22378         0      person  SouthWest\n",
      "1964        22383         3  motorcycle  SouthWest\n",
      "1965        22386         0      person  SouthWest\n",
      "\n",
      "[1966 rows x 4 columns]\n"
     ]
    }
   ],
   "source": [
    "file_path3 = f'{\"singhadurbar_re\"}/{\"Singhadurbar_03.xlsx\"}'\n",
    "singhadurbar_03 = pd.read_excel(file_path3)\n",
    "print(singhadurbar_03)"
   ],
   "metadata": {
    "collapsed": false,
    "ExecuteTime": {
     "end_time": "2024-01-17T05:24:18.539973Z",
     "start_time": "2024-01-17T05:24:18.466858Z"
    }
   },
   "id": "2e3ee2ee1e563a44"
  },
  {
   "cell_type": "code",
   "execution_count": 44,
   "outputs": [],
   "source": [
    "singhadurbar_03['FrameNumber'] += 16800"
   ],
   "metadata": {
    "collapsed": false,
    "ExecuteTime": {
     "end_time": "2024-01-17T05:24:20.768538Z",
     "start_time": "2024-01-17T05:24:20.762207Z"
    }
   },
   "id": "13fb7cb41563e822"
  },
  {
   "cell_type": "code",
   "execution_count": 45,
   "outputs": [],
   "source": [
    "singhadurbar_03['FrameNumber'] += 16786"
   ],
   "metadata": {
    "collapsed": false,
    "ExecuteTime": {
     "end_time": "2024-01-17T05:24:22.866250Z",
     "start_time": "2024-01-17T05:24:22.858863Z"
    }
   },
   "id": "eefb778a27ed4512"
  },
  {
   "cell_type": "code",
   "execution_count": 46,
   "outputs": [
    {
     "name": "stdout",
     "output_type": "stream",
     "text": [
      "      FrameNumber  ObjectID  ObjectType  Direction\n",
      "0           33591         3  motorcycle  NorthEast\n",
      "1           33591         3  motorcycle  NorthEast\n",
      "2           33592         3  motorcycle  SouthWest\n",
      "3           33595         0      person  SouthWest\n",
      "4           33600         3  motorcycle  NorthEast\n",
      "...           ...       ...         ...        ...\n",
      "1961        55958         3  motorcycle  SouthWest\n",
      "1962        55961         3  motorcycle  SouthWest\n",
      "1963        55964         0      person  SouthWest\n",
      "1964        55969         3  motorcycle  SouthWest\n",
      "1965        55972         0      person  SouthWest\n",
      "\n",
      "[1966 rows x 4 columns]\n"
     ]
    }
   ],
   "source": [
    "print(singhadurbar_03)"
   ],
   "metadata": {
    "collapsed": false,
    "ExecuteTime": {
     "end_time": "2024-01-17T05:24:23.385947Z",
     "start_time": "2024-01-17T05:24:23.381699Z"
    }
   },
   "id": "113e87554f01ad8b"
  },
  {
   "cell_type": "code",
   "execution_count": 47,
   "outputs": [],
   "source": [
    "merged_data3 = pd.concat([merged_data2,singhadurbar_03], ignore_index = True)"
   ],
   "metadata": {
    "collapsed": false,
    "ExecuteTime": {
     "end_time": "2024-01-17T05:24:25.585185Z",
     "start_time": "2024-01-17T05:24:25.577981Z"
    }
   },
   "id": "7ff929939cfb22e8"
  },
  {
   "cell_type": "code",
   "execution_count": 48,
   "outputs": [
    {
     "name": "stdout",
     "output_type": "stream",
     "text": [
      "      FrameNumber  ObjectID  ObjectType  Direction\n",
      "0               5         0      person  SouthWest\n",
      "1               7         0      person  SouthWest\n",
      "2              15         3  motorcycle  SouthWest\n",
      "3              18         0      person  SouthWest\n",
      "4              22         0      person  SouthWest\n",
      "...           ...       ...         ...        ...\n",
      "4137        55958         3  motorcycle  SouthWest\n",
      "4138        55961         3  motorcycle  SouthWest\n",
      "4139        55964         0      person  SouthWest\n",
      "4140        55969         3  motorcycle  SouthWest\n",
      "4141        55972         0      person  SouthWest\n",
      "\n",
      "[4142 rows x 4 columns]\n"
     ]
    }
   ],
   "source": [
    "print(merged_data3)"
   ],
   "metadata": {
    "collapsed": false,
    "ExecuteTime": {
     "end_time": "2024-01-17T05:24:25.985350Z",
     "start_time": "2024-01-17T05:24:25.980246Z"
    }
   },
   "id": "2919cf09259a8273"
  },
  {
   "cell_type": "code",
   "execution_count": 49,
   "outputs": [],
   "source": [
    "file_path4 = f'{\"singhadurbar_re\"}/{\"Singhadurbar_04.xlsx\"}'\n",
    "singhadurbar_04 = pd.read_excel(file_path4)"
   ],
   "metadata": {
    "collapsed": false,
    "ExecuteTime": {
     "end_time": "2024-01-17T05:24:26.689328Z",
     "start_time": "2024-01-17T05:24:26.647908Z"
    }
   },
   "id": "30f277ec12c64aae"
  },
  {
   "cell_type": "code",
   "execution_count": 50,
   "outputs": [
    {
     "name": "stdout",
     "output_type": "stream",
     "text": [
      "     FrameNumber  ObjectID  ObjectType  Direction\n",
      "0              4         0      person  SouthEast\n",
      "1             15         0      person  NorthEast\n",
      "2             16         2         car  SouthWest\n",
      "3             16         3  motorcycle  NorthEast\n",
      "4             29         3  motorcycle  SouthWest\n",
      "..           ...       ...         ...        ...\n",
      "637         6965         0      person  NorthEast\n",
      "638         6965         0      person  NorthEast\n",
      "639         6972         0      person  NorthEast\n",
      "640         6975         3  motorcycle  NorthEast\n",
      "641         6985         3  motorcycle  NorthEast\n",
      "\n",
      "[642 rows x 4 columns]\n"
     ]
    }
   ],
   "source": [
    "print(singhadurbar_04)"
   ],
   "metadata": {
    "collapsed": false,
    "ExecuteTime": {
     "end_time": "2024-01-17T05:24:28.223644Z",
     "start_time": "2024-01-17T05:24:28.219066Z"
    }
   },
   "id": "35c6dc1d5657ad54"
  },
  {
   "cell_type": "code",
   "execution_count": 51,
   "outputs": [],
   "source": [
    "singhadurbar_04['FrameNumber'] += (16800 + 16786 + 22400)"
   ],
   "metadata": {
    "collapsed": false,
    "ExecuteTime": {
     "end_time": "2024-01-17T05:24:29.065831Z",
     "start_time": "2024-01-17T05:24:29.059985Z"
    }
   },
   "id": "36cd11377b4a5f2b"
  },
  {
   "cell_type": "code",
   "execution_count": 52,
   "outputs": [
    {
     "name": "stdout",
     "output_type": "stream",
     "text": [
      "     FrameNumber  ObjectID  ObjectType  Direction\n",
      "0          55990         0      person  SouthEast\n",
      "1          56001         0      person  NorthEast\n",
      "2          56002         2         car  SouthWest\n",
      "3          56002         3  motorcycle  NorthEast\n",
      "4          56015         3  motorcycle  SouthWest\n",
      "..           ...       ...         ...        ...\n",
      "637        62951         0      person  NorthEast\n",
      "638        62951         0      person  NorthEast\n",
      "639        62958         0      person  NorthEast\n",
      "640        62961         3  motorcycle  NorthEast\n",
      "641        62971         3  motorcycle  NorthEast\n",
      "\n",
      "[642 rows x 4 columns]\n"
     ]
    }
   ],
   "source": [
    "print(singhadurbar_04)"
   ],
   "metadata": {
    "collapsed": false,
    "ExecuteTime": {
     "end_time": "2024-01-17T05:24:30.604106Z",
     "start_time": "2024-01-17T05:24:30.597013Z"
    }
   },
   "id": "9a50d6a648b0fd07"
  },
  {
   "cell_type": "code",
   "execution_count": 53,
   "outputs": [],
   "source": [
    "merged_data4 = pd.concat([merged_data3,singhadurbar_04], ignore_index = True)"
   ],
   "metadata": {
    "collapsed": false,
    "ExecuteTime": {
     "end_time": "2024-01-17T05:24:30.907391Z",
     "start_time": "2024-01-17T05:24:30.899587Z"
    }
   },
   "id": "f3dee0fb460f28b7"
  },
  {
   "cell_type": "code",
   "execution_count": 54,
   "outputs": [
    {
     "name": "stdout",
     "output_type": "stream",
     "text": [
      "      FrameNumber  ObjectID  ObjectType  Direction\n",
      "0               5         0      person  SouthWest\n",
      "1               7         0      person  SouthWest\n",
      "2              15         3  motorcycle  SouthWest\n",
      "3              18         0      person  SouthWest\n",
      "4              22         0      person  SouthWest\n",
      "...           ...       ...         ...        ...\n",
      "4779        62951         0      person  NorthEast\n",
      "4780        62951         0      person  NorthEast\n",
      "4781        62958         0      person  NorthEast\n",
      "4782        62961         3  motorcycle  NorthEast\n",
      "4783        62971         3  motorcycle  NorthEast\n",
      "\n",
      "[4784 rows x 4 columns]\n"
     ]
    }
   ],
   "source": [
    "print(merged_data4)"
   ],
   "metadata": {
    "collapsed": false,
    "ExecuteTime": {
     "end_time": "2024-01-17T05:24:31.456532Z",
     "start_time": "2024-01-17T05:24:31.452472Z"
    }
   },
   "id": "f4ae7344a93554a3"
  },
  {
   "cell_type": "code",
   "execution_count": 55,
   "outputs": [
    {
     "name": "stdout",
     "output_type": "stream",
     "text": [
      "      FrameNumber  ObjectID  ObjectType  Direction\n",
      "0              11         2         car  NorthEast\n",
      "1              37         2         car  NorthEast\n",
      "2              82         7       truck  SouthWest\n",
      "3             156         0      person  SouthWest\n",
      "4             158         0      person  SouthWest\n",
      "...           ...       ...         ...        ...\n",
      "4717        41972         3  motorcycle  NorthEast\n",
      "4718        41984         0      person  SouthEast\n",
      "4719        41986         0      person  NorthEast\n",
      "4720        41993         0      person  SouthEast\n",
      "4721        41993         3  motorcycle  NorthEast\n",
      "\n",
      "[4722 rows x 4 columns]\n"
     ]
    }
   ],
   "source": [
    "file_path5 = f'{\"singhadurbar_re\"}/{\"Singhadurbar_05.xlsx\"}'\n",
    "singhadurbar_05 = pd.read_excel(file_path5)\n",
    "print(singhadurbar_05)"
   ],
   "metadata": {
    "collapsed": false,
    "ExecuteTime": {
     "end_time": "2024-01-17T05:24:32.914862Z",
     "start_time": "2024-01-17T05:24:32.708690Z"
    }
   },
   "id": "7d442a88486737c4"
  },
  {
   "cell_type": "code",
   "execution_count": 56,
   "outputs": [
    {
     "name": "stdout",
     "output_type": "stream",
     "text": [
      "      FrameNumber  ObjectID  ObjectType  Direction\n",
      "0           62983         2         car  NorthEast\n",
      "1           63009         2         car  NorthEast\n",
      "2           63054         7       truck  SouthWest\n",
      "3           63128         0      person  SouthWest\n",
      "4           63130         0      person  SouthWest\n",
      "...           ...       ...         ...        ...\n",
      "4717       104944         3  motorcycle  NorthEast\n",
      "4718       104956         0      person  SouthEast\n",
      "4719       104958         0      person  NorthEast\n",
      "4720       104965         0      person  SouthEast\n",
      "4721       104965         3  motorcycle  NorthEast\n",
      "\n",
      "[4722 rows x 4 columns]\n"
     ]
    }
   ],
   "source": [
    "singhadurbar_05['FrameNumber'] += (16800 + 16786 + 22400 + 6986)\n",
    "print(singhadurbar_05)"
   ],
   "metadata": {
    "collapsed": false,
    "ExecuteTime": {
     "end_time": "2024-01-17T05:24:33.783842Z",
     "start_time": "2024-01-17T05:24:33.778559Z"
    }
   },
   "id": "95de8161a4ec1bcf"
  },
  {
   "cell_type": "code",
   "execution_count": 57,
   "outputs": [
    {
     "name": "stdout",
     "output_type": "stream",
     "text": [
      "      FrameNumber  ObjectID  ObjectType  Direction\n",
      "0               5         0      person  SouthWest\n",
      "1               7         0      person  SouthWest\n",
      "2              15         3  motorcycle  SouthWest\n",
      "3              18         0      person  SouthWest\n",
      "4              22         0      person  SouthWest\n",
      "...           ...       ...         ...        ...\n",
      "9501       104944         3  motorcycle  NorthEast\n",
      "9502       104956         0      person  SouthEast\n",
      "9503       104958         0      person  NorthEast\n",
      "9504       104965         0      person  SouthEast\n",
      "9505       104965         3  motorcycle  NorthEast\n",
      "\n",
      "[9506 rows x 4 columns]\n"
     ]
    }
   ],
   "source": [
    "merged_data5 = pd.concat([merged_data4,singhadurbar_05], ignore_index = True)\n",
    "print(merged_data5)"
   ],
   "metadata": {
    "collapsed": false,
    "ExecuteTime": {
     "end_time": "2024-01-17T05:24:43.419750Z",
     "start_time": "2024-01-17T05:24:43.411582Z"
    }
   },
   "id": "35034b2c15c5874b"
  },
  {
   "cell_type": "code",
   "execution_count": 58,
   "outputs": [
    {
     "name": "stdout",
     "output_type": "stream",
     "text": [
      "      FrameNumber  ObjectID    ObjectType  Direction\n",
      "0               4         0        person  SouthWest\n",
      "1               8         3    motorcycle  SouthWest\n",
      "2              10         0        person  SouthWest\n",
      "3              22         3    motorcycle  SouthWest\n",
      "4              23         0        person  SouthWest\n",
      "...           ...       ...           ...        ...\n",
      "5819        53732         3    motorcycle  NorthEast\n",
      "5820        54082         0        person  SouthWest\n",
      "5821        54082         7         truck  SouthEast\n",
      "5822        54589         3    motorcycle  NorthEast\n",
      "5823        54605        10  fire hydrant  NorthWest\n",
      "\n",
      "[5824 rows x 4 columns]\n"
     ]
    }
   ],
   "source": [
    "file_path6 = f'{\"singhadurbar_re\"}/{\"Singhadurbar_06.xlsx\"}'\n",
    "singhadurbar_06 = pd.read_excel(file_path6)\n",
    "print(singhadurbar_06)"
   ],
   "metadata": {
    "collapsed": false,
    "ExecuteTime": {
     "end_time": "2024-01-17T05:24:51.693843Z",
     "start_time": "2024-01-17T05:24:51.488159Z"
    }
   },
   "id": "df16bb9f961a1ddf"
  },
  {
   "cell_type": "code",
   "execution_count": 59,
   "outputs": [
    {
     "name": "stdout",
     "output_type": "stream",
     "text": [
      "      FrameNumber  ObjectID    ObjectType  Direction\n",
      "0          104976         0        person  SouthWest\n",
      "1          104980         3    motorcycle  SouthWest\n",
      "2          104982         0        person  SouthWest\n",
      "3          104994         3    motorcycle  SouthWest\n",
      "4          104995         0        person  SouthWest\n",
      "...           ...       ...           ...        ...\n",
      "5819       158704         3    motorcycle  NorthEast\n",
      "5820       159054         0        person  SouthWest\n",
      "5821       159054         7         truck  SouthEast\n",
      "5822       159561         3    motorcycle  NorthEast\n",
      "5823       159577        10  fire hydrant  NorthWest\n",
      "\n",
      "[5824 rows x 4 columns]\n"
     ]
    }
   ],
   "source": [
    "singhadurbar_06['FrameNumber'] += (16800 + 16786 + 22400 + 6986 + 42000)\n",
    "print(singhadurbar_06)"
   ],
   "metadata": {
    "collapsed": false,
    "ExecuteTime": {
     "end_time": "2024-01-17T05:24:56.081366Z",
     "start_time": "2024-01-17T05:24:56.063756Z"
    }
   },
   "id": "1a04f2b7f6f492cd"
  },
  {
   "cell_type": "code",
   "execution_count": 63,
   "outputs": [
    {
     "name": "stdout",
     "output_type": "stream",
     "text": [
      "       FrameNumber  ObjectID    ObjectType  Direction\n",
      "0                5         0        person  SouthWest\n",
      "1                7         0        person  SouthWest\n",
      "2               15         3    motorcycle  SouthWest\n",
      "3               18         0        person  SouthWest\n",
      "4               22         0        person  SouthWest\n",
      "...            ...       ...           ...        ...\n",
      "15325       158704         3    motorcycle  NorthEast\n",
      "15326       159054         0        person  SouthWest\n",
      "15327       159054         7         truck  SouthEast\n",
      "15328       159561         3    motorcycle  NorthEast\n",
      "15329       159577        10  fire hydrant  NorthWest\n",
      "\n",
      "[15330 rows x 4 columns]\n"
     ]
    }
   ],
   "source": [
    "merged_data6 = pd.concat([merged_data5,singhadurbar_06], ignore_index = True)\n",
    "print(merged_data6)"
   ],
   "metadata": {
    "collapsed": false,
    "ExecuteTime": {
     "end_time": "2024-01-17T05:26:36.126325Z",
     "start_time": "2024-01-17T05:26:36.117092Z"
    }
   },
   "id": "63690c2243fd286a"
  },
  {
   "cell_type": "code",
   "execution_count": 61,
   "outputs": [
    {
     "name": "stdout",
     "output_type": "stream",
     "text": [
      "      FrameNumber  ObjectID  ObjectType  Direction\n",
      "0             755         7       truck  SouthWest\n",
      "1             786         3  motorcycle  SouthWest\n",
      "2             787         0      person  SouthWest\n",
      "3            1013         3  motorcycle  SouthWest\n",
      "4            1189         0      person  SouthEast\n",
      "...           ...       ...         ...        ...\n",
      "1975        19864         2         car  NorthEast\n",
      "1976        19866         2         car  SouthWest\n",
      "1977        19979         7       truck  SouthWest\n",
      "1978        20055         2         car  NorthEast\n",
      "1979        20135         2         car  SouthWest\n",
      "\n",
      "[1980 rows x 4 columns]\n"
     ]
    }
   ],
   "source": [
    "file_path7 = f'{\"singhadurbar_re\"}/{\"Singhadurbar_07.xlsx\"}'\n",
    "singhadurbar_07 = pd.read_excel(file_path7)\n",
    "print(singhadurbar_07)"
   ],
   "metadata": {
    "collapsed": false,
    "ExecuteTime": {
     "end_time": "2024-01-17T05:25:32.500479Z",
     "start_time": "2024-01-17T05:25:32.419723Z"
    }
   },
   "id": "371ad6b5e1342b59"
  },
  {
   "cell_type": "code",
   "execution_count": 62,
   "outputs": [
    {
     "name": "stdout",
     "output_type": "stream",
     "text": [
      "      FrameNumber  ObjectID  ObjectType  Direction\n",
      "0          161727         7       truck  SouthWest\n",
      "1          161758         3  motorcycle  SouthWest\n",
      "2          161759         0      person  SouthWest\n",
      "3          161985         3  motorcycle  SouthWest\n",
      "4          162161         0      person  SouthEast\n",
      "...           ...       ...         ...        ...\n",
      "1975       180836         2         car  NorthEast\n",
      "1976       180838         2         car  SouthWest\n",
      "1977       180951         7       truck  SouthWest\n",
      "1978       181027         2         car  NorthEast\n",
      "1979       181107         2         car  SouthWest\n",
      "\n",
      "[1980 rows x 4 columns]\n"
     ]
    }
   ],
   "source": [
    "singhadurbar_07['FrameNumber'] += (16800 + 16786 + 22400 + 6986 + 42000 + 56000)\n",
    "print(singhadurbar_07)"
   ],
   "metadata": {
    "collapsed": false,
    "ExecuteTime": {
     "end_time": "2024-01-17T05:26:14.048627Z",
     "start_time": "2024-01-17T05:26:14.046432Z"
    }
   },
   "id": "8916f85c6f77723e"
  },
  {
   "cell_type": "code",
   "execution_count": 64,
   "outputs": [
    {
     "name": "stdout",
     "output_type": "stream",
     "text": [
      "       FrameNumber  ObjectID  ObjectType  Direction\n",
      "0                5         0      person  SouthWest\n",
      "1                7         0      person  SouthWest\n",
      "2               15         3  motorcycle  SouthWest\n",
      "3               18         0      person  SouthWest\n",
      "4               22         0      person  SouthWest\n",
      "...            ...       ...         ...        ...\n",
      "17305       180836         2         car  NorthEast\n",
      "17306       180838         2         car  SouthWest\n",
      "17307       180951         7       truck  SouthWest\n",
      "17308       181027         2         car  NorthEast\n",
      "17309       181107         2         car  SouthWest\n",
      "\n",
      "[17310 rows x 4 columns]\n"
     ]
    }
   ],
   "source": [
    "merged_data7 = pd.concat([merged_data6,singhadurbar_07], ignore_index = True)\n",
    "print(merged_data7)"
   ],
   "metadata": {
    "collapsed": false,
    "ExecuteTime": {
     "end_time": "2024-01-17T05:27:06.247668Z",
     "start_time": "2024-01-17T05:27:06.224156Z"
    }
   },
   "id": "a47cfb584f2e4142"
  },
  {
   "cell_type": "code",
   "execution_count": 65,
   "outputs": [],
   "source": [
    "merged_data7.to_excel('SinghaDurbar_Final.xlsx', index=False)"
   ],
   "metadata": {
    "collapsed": false,
    "ExecuteTime": {
     "end_time": "2024-01-17T05:27:19.451702Z",
     "start_time": "2024-01-17T05:27:18.635048Z"
    }
   },
   "id": "c57921fabd88df6f"
  },
  {
   "cell_type": "code",
   "execution_count": 66,
   "outputs": [
    {
     "name": "stdout",
     "output_type": "stream",
     "text": [
      "17310\n"
     ]
    }
   ],
   "source": [
    "print(len(merged_data) + len(singhadurbar_02) + len(singhadurbar_03) + len(singhadurbar_04) + len(singhadurbar_05) + len(singhadurbar_06) + len(singhadurbar_07))"
   ],
   "metadata": {
    "collapsed": false,
    "ExecuteTime": {
     "end_time": "2024-01-17T05:29:02.415482Z",
     "start_time": "2024-01-17T05:29:02.396762Z"
    }
   },
   "id": "c7099fd36831b4f2"
  },
  {
   "cell_type": "code",
   "execution_count": 67,
   "outputs": [
    {
     "name": "stdout",
     "output_type": "stream",
     "text": [
      "17310\n"
     ]
    }
   ],
   "source": [
    "print(len(merged_data7))"
   ],
   "metadata": {
    "collapsed": false,
    "ExecuteTime": {
     "end_time": "2024-01-17T05:29:12.213745Z",
     "start_time": "2024-01-17T05:29:12.189738Z"
    }
   },
   "id": "6ac2d2f9484412e8"
  },
  {
   "cell_type": "code",
   "execution_count": null,
   "outputs": [],
   "source": [],
   "metadata": {
    "collapsed": false
   },
   "id": "8c4a7221772aefcb"
  }
 ],
 "metadata": {
  "kernelspec": {
   "display_name": "Python 3",
   "language": "python",
   "name": "python3"
  },
  "language_info": {
   "codemirror_mode": {
    "name": "ipython",
    "version": 2
   },
   "file_extension": ".py",
   "mimetype": "text/x-python",
   "name": "python",
   "nbconvert_exporter": "python",
   "pygments_lexer": "ipython2",
   "version": "2.7.6"
  }
 },
 "nbformat": 4,
 "nbformat_minor": 5
}
